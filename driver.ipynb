{
 "cells": [
  {
   "cell_type": "code",
   "execution_count": 1,
   "source": [
    "import numpy as np\r\n",
    "import pandas as pd\r\n",
    "from selenium import webdriver"
   ],
   "outputs": [],
   "metadata": {}
  },
  {
   "cell_type": "code",
   "execution_count": null,
   "source": [
    "driver = webdriver.Edge(r'resources/msedgedriver.exe')"
   ],
   "outputs": [],
   "metadata": {}
  },
  {
   "cell_type": "code",
   "execution_count": null,
   "source": [
    "url = \"http://www.jctd.net/cyjc/cysx/sxdl.aspx\"\r\n",
    "driver.get(url)\r\n",
    "\r\n",
    "driver.find_element_by_id(\"ctl00_contentplaceholder1_masterDataGrid_ctl34_pass\").send_keys(\"tongji\")\r\n",
    "driver.find_elements_by_link_text('登录')[32].click()\r\n",
    "\r\n",
    "driver.find_element_by_id('stuid').send_keys('888')\r\n",
    "driver.find_element_by_id('mima').send_keys('888')\r\n",
    "driver.find_element_by_id('login').click()"
   ],
   "outputs": [],
   "metadata": {}
  },
  {
   "cell_type": "code",
   "execution_count": null,
   "source": [
    "driver.find_element_by_css_selector('[coords=\"38,53,28\"]').click()\r\n",
    "\r\n",
    "table = driver.find_element_by_id('table0')\r\n",
    "rows = table.text.split('\\n')\r\n",
    "period_data = [''.join(list(filter(lambda s: str.isdigit(s) or s == '.', row))) for row in rows]\r\n",
    "\r\n",
    "driver.find_element_by_link_text('返回主菜单').click()\r\n",
    "\r\n",
    "period_data"
   ],
   "outputs": [],
   "metadata": {}
  },
  {
   "cell_type": "code",
   "execution_count": null,
   "source": [
    "driver.find_element_by_css_selector('[coords=\"54,111,28\"]').click()"
   ],
   "outputs": [],
   "metadata": {}
  }
 ],
 "metadata": {
  "orig_nbformat": 4,
  "language_info": {
   "name": "python",
   "version": "3.9.2",
   "mimetype": "text/x-python",
   "codemirror_mode": {
    "name": "ipython",
    "version": 3
   },
   "pygments_lexer": "ipython3",
   "nbconvert_exporter": "python",
   "file_extension": ".py"
  },
  "kernelspec": {
   "name": "python3",
   "display_name": "Python 3.9.2 64-bit"
  },
  "interpreter": {
   "hash": "f3aa6331c07ee25bacc791f93f707d5a9245b8fc1ed968ce9ad3ec4728621a3f"
  }
 },
 "nbformat": 4,
 "nbformat_minor": 2
}